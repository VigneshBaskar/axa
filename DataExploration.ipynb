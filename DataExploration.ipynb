{
  "nbformat": 4, 
  "nbformat_minor": 0, 
  "cells": [
    {
      "execution_count": 1, 
      "cell_type": "code", 
      "source": [
        "import os\n", 
        "import pandas as pd\n", 
        "import numpy as np\n", 
        "import pickle\n", 
        "from sklearn.model_selection import train_test_split"
      ], 
      "outputs": [], 
      "metadata": {
        "collapsed": false
      }
    }, 
    {
      "execution_count": 2, 
      "cell_type": "code", 
      "source": [
        "from Scripts.UnknownWordsProcessing import UnknownWordsProcessing \n", 
        "from Scripts.VocabDict import VocabDict\n", 
        "from Scripts.MapWordToID import MapWordToID\n", 
        "from Scripts.Tokenizer import word_tokenizer\n", 
        "from Scripts.SentenceProcessing import SentenceProcessing\n", 
        "from Scripts.Word2VecUtilities import Word2VecUtilities"
      ], 
      "outputs": [], 
      "metadata": {
        "collapsed": false
      }
    }, 
    {
      "execution_count": 3, 
      "cell_type": "code", 
      "source": [
        "with open(os.path.join('Data','data.p'), 'rb') as handle:\n", 
        "    data = pickle.load(handle)"
      ], 
      "outputs": [], 
      "metadata": {
        "collapsed": false
      }
    }, 
    {
      "execution_count": 4, 
      "cell_type": "code", 
      "source": [
        "X_text = data['X_text']\n", 
        "y = data['y']"
      ], 
      "outputs": [], 
      "metadata": {
        "collapsed": false
      }
    }, 
    {
      "execution_count": 5, 
      "cell_type": "code", 
      "source": [
        "all_documents_tokenized_words = [list(set(word_tokenizer(text))) for text in X_text]\n", 
        "vocab_dict, rev_vocab_dict = VocabDict.create_vocab_dict(all_documents_tokenized_words, min_doc_count=1000)"
      ], 
      "outputs": [], 
      "metadata": {
        "collapsed": false
      }
    }, 
    {
      "execution_count": 6, 
      "cell_type": "code", 
      "source": [
        "unknown_words_processing = UnknownWordsProcessing(vocab_dict.keys(), replace=False)\n", 
        "tokenized_documents = [word_tokenizer(text) for text in X_text]\n", 
        "unknown_words_removed_sentences = unknown_words_processing.remove_or_replace_unkown_word_from_sentences(tokenized_documents)\n", 
        "preprocessed_documents = SentenceProcessing().pad_truncate_sent(unknown_words_removed_sentences, chosen_sent_len = 300)"
      ], 
      "outputs": [], 
      "metadata": {
        "collapsed": false
      }
    }, 
    {
      "execution_count": 7, 
      "cell_type": "code", 
      "source": [
        "w2v_model = Word2VecUtilities.create_word2vector_model(unknown_words_removed_sentences, wv_size=50)\n", 
        "embedding_matrix = Word2VecUtilities.create_embeddings_matrix(w2v_model, rev_vocab_dict)"
      ], 
      "outputs": [], 
      "metadata": {
        "collapsed": false
      }
    }, 
    {
      "execution_count": 8, 
      "cell_type": "code", 
      "source": [
        "vocab_dict['my_dummy']=len(vocab_dict)\n", 
        "rev_vocab_dict[len(rev_vocab_dict)] = 'my_dummy'\n", 
        "embedding_matrix = np.vstack((embedding_matrix, np.zeros((1, embedding_matrix.shape[1]))))"
      ], 
      "outputs": [], 
      "metadata": {
        "collapsed": false
      }
    }, 
    {
      "execution_count": 9, 
      "cell_type": "code", 
      "source": [
        "map_word_to_id = MapWordToID(vocab_dict)\n", 
        "id_lists = map_word_to_id.word_lists_to_id_lists(preprocessed_documents)\n", 
        "id_arrays = np.array(id_lists)"
      ], 
      "outputs": [], 
      "metadata": {
        "collapsed": false
      }
    }, 
    {
      "execution_count": 10, 
      "cell_type": "code", 
      "source": [
        "def return_actual_text(x, rev_vocab_dict):\n", 
        "    actual_text = \" \".join([rev_vocab_dict[word_id] for word_id in x])\n", 
        "    return actual_text"
      ], 
      "outputs": [], 
      "metadata": {
        "collapsed": false
      }
    }, 
    {
      "execution_count": 11, 
      "cell_type": "code", 
      "source": [
        "w2v_model.wv.most_similar('grant')"
      ], 
      "outputs": [], 
      "metadata": {
        "collapsed": false
      }
    }, 
    {
      "execution_count": 12, 
      "cell_type": "code", 
      "source": [
        "X_train_and_valid, X_test, y_train_and_valid, y_test = train_test_split(id_arrays, y, test_size=0.15, random_state=42)\n", 
        "X_train, X_valid, y_train, y_valid = train_test_split(X_train_and_valid, y_train_and_valid, test_size=0.15, random_state=42)"
      ], 
      "outputs": [], 
      "metadata": {
        "collapsed": false
      }
    }, 
    {
      "execution_count": 13, 
      "cell_type": "code", 
      "source": [
        "data_X_y = {'X_train':X_train, 'X_valid':X_valid, 'X_test':X_test,\n", 
        "           'y_train':y_train, 'y_valid':y_valid,'y_test':y_test}\n", 
        "\n", 
        "with open(os.path.join('Data','data_X_y.p'), 'wb') as handle:\n", 
        "    pickle.dump(data_X_y, handle, protocol=pickle.HIGHEST_PROTOCOL)"
      ], 
      "outputs": [], 
      "metadata": {
        "collapsed": false
      }
    }, 
    {
      "execution_count": 14, 
      "cell_type": "code", 
      "source": [
        "training_params = {'embedding_matrix':embedding_matrix}\n", 
        "with open(os.path.join('Data','training_params.p'), 'wb') as handle:\n", 
        "    pickle.dump(training_params, handle, protocol=pickle.HIGHEST_PROTOCOL)"
      ], 
      "outputs": [], 
      "metadata": {
        "collapsed": false
      }
    }, 
    {
      "execution_count": 15, 
      "cell_type": "code", 
      "source": [
        ""
      ], 
      "outputs": [], 
      "metadata": {
        "collapsed": false
      }
    }
  ], 
  "metadata": {
    "kernelspec": {
      "display_name": "Python 2", 
      "name": "python2", 
      "language": "python"
    }, 
    "language_info": {
      "mimetype": "text/x-python", 
      "nbconvert_exporter": "python", 
      "name": "python", 
      "file_extension": ".py", 
      "version": "2.7.10", 
      "pygments_lexer": "ipython2", 
      "codemirror_mode": {
        "version": 2, 
        "name": "ipython"
      }
    }
  }
}